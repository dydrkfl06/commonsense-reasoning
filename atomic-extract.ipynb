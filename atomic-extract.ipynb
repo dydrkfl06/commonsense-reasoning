{
 "cells": [
  {
   "cell_type": "markdown",
   "metadata": {},
   "source": [
    "# 1. Extract Verb in PIQA Dataset"
   ]
  },
  {
   "cell_type": "code",
   "execution_count": null,
   "metadata": {},
   "outputs": [],
   "source": [
    "import pandas as pd\n",
    "import json\n",
    "\n",
    "import spacy\n",
    "from tqdm import tqdm"
   ]
  },
  {
   "cell_type": "markdown",
   "metadata": {},
   "source": [
    "## 1.1 Open PIQA Dataset"
   ]
  },
  {
   "cell_type": "code",
   "execution_count": null,
   "metadata": {},
   "outputs": [],
   "source": [
    "tmp = []\n",
    "with open('./PIQA/train.jsonl') as f:\n",
    "    for obj in f:\n",
    "        tmp.append(json.loads(obj))\n",
    "\n",
    "piqa_train = pd.DataFrame(tmp)\n",
    "display(piqa_train.head())"
   ]
  },
  {
   "cell_type": "code",
   "execution_count": null,
   "metadata": {},
   "outputs": [],
   "source": [
    "tmp = []\n",
    "with open('./PIQA/valid.jsonl') as f:\n",
    "    for obj in f:\n",
    "        tmp.append(json.loads(obj))\n",
    "\n",
    "piqa_valid = pd.DataFrame(tmp)\n",
    "display(piqa_valid.head())"
   ]
  },
  {
   "cell_type": "code",
   "execution_count": null,
   "metadata": {},
   "outputs": [],
   "source": [
    "tmp = []\n",
    "with open('./PIQA/tests.jsonl') as f:\n",
    "    for obj in f:\n",
    "        tmp.append(json.loads(obj))\n",
    "\n",
    "piqa_tests = pd.DataFrame(tmp)\n",
    "display(piqa_tests.head())"
   ]
  },
  {
   "cell_type": "markdown",
   "metadata": {},
   "source": [
    "## 1.2 Extract PIQA Verbs"
   ]
  },
  {
   "cell_type": "markdown",
   "metadata": {},
   "source": [
    "```$ python -m spacy download en_core_web_sm```"
   ]
  },
  {
   "cell_type": "markdown",
   "metadata": {},
   "source": [
    "```$ python -m spacy download en_core_web_trf```"
   ]
  },
  {
   "cell_type": "code",
   "execution_count": null,
   "metadata": {},
   "outputs": [],
   "source": [
    "piqa_train_length = len(piqa_train)\n",
    "print(piqa_train_length)"
   ]
  },
  {
   "cell_type": "code",
   "execution_count": null,
   "metadata": {},
   "outputs": [],
   "source": [
    "piqa_valid_length = len(piqa_valid)\n",
    "print(piqa_valid_length)"
   ]
  },
  {
   "cell_type": "code",
   "execution_count": null,
   "metadata": {},
   "outputs": [],
   "source": [
    "piqa_tests_length = len(piqa_tests)\n",
    "print(piqa_tests_length)"
   ]
  },
  {
   "cell_type": "markdown",
   "metadata": {},
   "source": [
    "### 1.2.1 Extract Verbs by ```en_core_web_sm```"
   ]
  },
  {
   "cell_type": "code",
   "execution_count": null,
   "metadata": {},
   "outputs": [],
   "source": [
    "nlp = spacy.load('en_core_web_sm')\n",
    "\n",
    "piqa_train['verbs'] = None\n",
    "piqa_train_verbs = set()\n",
    "\n",
    "for row in tqdm(piqa_train.itertuples(), total=piqa_train_length):\n",
    "    col1 = nlp(row.goal)\n",
    "    col2 = nlp(row.sol1)\n",
    "    col3 = nlp(row.sol2)\n",
    "    \n",
    "    tmp = set()\n",
    "    tmp.update([token.lemma_ for token in col1 if token.pos_ == 'VERB'])\n",
    "    tmp.update([token.lemma_ for token in col2 if token.pos_ == 'VERB'])\n",
    "    tmp.update([token.lemma_ for token in col3 if token.pos_ == 'VERB'])\n",
    "\n",
    "    piqa_train.at[row.Index, 'verbs'] = tmp\n",
    "    piqa_train_verbs.update(tmp)\n",
    "\n",
    "print(len(piqa_train_verbs))"
   ]
  },
  {
   "cell_type": "code",
   "execution_count": null,
   "metadata": {},
   "outputs": [],
   "source": [
    "piqa_valid['verbs'] = None\n",
    "piqa_valid_verbs = set()\n",
    "\n",
    "for row in tqdm(piqa_valid.itertuples(), total=piqa_valid_length):\n",
    "    col1 = nlp(row.goal)\n",
    "    col2 = nlp(row.sol1)\n",
    "    col3 = nlp(row.sol2)\n",
    "    \n",
    "    tmp = set()\n",
    "    tmp.update([token.lemma_ for token in col1 if token.pos_ == 'VERB'])\n",
    "    tmp.update([token.lemma_ for token in col2 if token.pos_ == 'VERB'])\n",
    "    tmp.update([token.lemma_ for token in col3 if token.pos_ == 'VERB'])\n",
    "\n",
    "    piqa_valid.at[row.Index, 'verbs'] = tmp\n",
    "    piqa_valid_verbs.update(tmp)\n",
    "\n",
    "print(len(piqa_valid_verbs))"
   ]
  },
  {
   "cell_type": "code",
   "execution_count": null,
   "metadata": {},
   "outputs": [],
   "source": [
    "piqa_tests['verbs'] = None\n",
    "piqa_tests_verbs = set()\n",
    "\n",
    "for row in tqdm(piqa_tests.itertuples(), total=piqa_tests_length):\n",
    "    col1 = nlp(row.goal)\n",
    "    col2 = nlp(row.sol1)\n",
    "    col3 = nlp(row.sol2)\n",
    "    \n",
    "    tmp = set()\n",
    "    tmp.update([token.lemma_ for token in col1 if token.pos_ == 'VERB'])\n",
    "    tmp.update([token.lemma_ for token in col2 if token.pos_ == 'VERB'])\n",
    "    tmp.update([token.lemma_ for token in col3 if token.pos_ == 'VERB'])\n",
    "\n",
    "    piqa_tests.at[row.Index, 'verbs'] = tmp\n",
    "    piqa_tests_verbs.update(tmp)\n",
    "\n",
    "print(len(piqa_tests_verbs))"
   ]
  },
  {
   "cell_type": "markdown",
   "metadata": {},
   "source": [
    "### 1.2.4 Save Extracted Verbs"
   ]
  },
  {
   "cell_type": "code",
   "execution_count": null,
   "metadata": {},
   "outputs": [],
   "source": [
    "piqa_train_verbs_df = pd.DataFrame(piqa_train_verbs)\n",
    "piqa_train_verbs_df.to_csv(\"./output/piqa_train_verbs.txt\", index=False, header=False)"
   ]
  },
  {
   "cell_type": "code",
   "execution_count": null,
   "metadata": {},
   "outputs": [],
   "source": [
    "piqa_valid_verbs_df = pd.DataFrame(piqa_valid_verbs)\n",
    "piqa_valid_verbs_df.to_csv(\"./output/piqa_valid_verbs.txt\", index=False, header=False)"
   ]
  },
  {
   "cell_type": "code",
   "execution_count": null,
   "metadata": {},
   "outputs": [],
   "source": [
    "piqa_tests_verbs_df = pd.DataFrame(piqa_tests_verbs)\n",
    "piqa_tests_verbs_df.to_csv(\"./output/piqa_tests_verbs.txt\", index=False, header=False)"
   ]
  },
  {
   "cell_type": "code",
   "execution_count": null,
   "metadata": {},
   "outputs": [],
   "source": [
    "piqa_verbs = set()\n",
    "piqa_verbs.update(piqa_train_verbs)\n",
    "piqa_verbs.update(piqa_valid_verbs)\n",
    "piqa_verbs.update(piqa_tests_verbs)\n",
    "\n",
    "print(len(piqa_verbs))"
   ]
  },
  {
   "cell_type": "code",
   "execution_count": null,
   "metadata": {},
   "outputs": [],
   "source": [
    "piqa_verbs_df = pd.DataFrame(piqa_verbs)\n",
    "piqa_verbs_df.to_csv(\"./output/piqa_verbs.txt\", index=False, header=False)"
   ]
  },
  {
   "cell_type": "markdown",
   "metadata": {},
   "source": [
    "# 2. Collect ATOMIC which including PIQA-Verb"
   ]
  },
  {
   "cell_type": "markdown",
   "metadata": {},
   "source": [
    "## 2.1 Open ATOMIC Dataset"
   ]
  },
  {
   "cell_type": "code",
   "execution_count": null,
   "metadata": {},
   "outputs": [],
   "source": [
    "colnames = ['head', 'relation', 'tail']\n",
    "atomic_train = pd.read_csv('./atomic2020/train.tsv', sep='\\t', names=colnames, header=None)\n",
    "display(atomic_train.head())"
   ]
  },
  {
   "cell_type": "code",
   "execution_count": null,
   "metadata": {},
   "outputs": [],
   "source": [
    "atomic_dev = pd.read_csv('./atomic2020/dev.tsv', sep='\\t', names=colnames, header=None)\n",
    "display(atomic_dev.head())"
   ]
  },
  {
   "cell_type": "code",
   "execution_count": null,
   "metadata": {},
   "outputs": [],
   "source": [
    "atomic_test = pd.read_csv('./atomic2020/test.tsv', sep='\\t', names=colnames, header=None)\n",
    "display(atomic_test.head())"
   ]
  },
  {
   "cell_type": "markdown",
   "metadata": {},
   "source": [
    "## 2.2 Load PIQA Verbs"
   ]
  },
  {
   "cell_type": "code",
   "execution_count": null,
   "metadata": {},
   "outputs": [],
   "source": [
    "piqa_verbs = set(line.strip() for line in open('./output/piqa_verbs.txt'))\n",
    "print(len(piqa_verbs))"
   ]
  },
  {
   "cell_type": "markdown",
   "metadata": {},
   "source": [
    "## 2.3 Extract ATOMIC Verbs"
   ]
  },
  {
   "cell_type": "code",
   "execution_count": null,
   "metadata": {},
   "outputs": [],
   "source": [
    "atomic_train_length = len(atomic_train)\n",
    "print(atomic_train_length)"
   ]
  },
  {
   "cell_type": "code",
   "execution_count": null,
   "metadata": {},
   "outputs": [],
   "source": [
    "atomic_dev_length = len(atomic_dev)\n",
    "print(atomic_dev_length)"
   ]
  },
  {
   "cell_type": "code",
   "execution_count": null,
   "metadata": {},
   "outputs": [],
   "source": [
    "atomic_test_length = len(atomic_test)\n",
    "print(atomic_test_length)"
   ]
  },
  {
   "cell_type": "code",
   "execution_count": null,
   "metadata": {},
   "outputs": [],
   "source": [
    "# check if tail is float\n",
    "display(atomic_train[atomic_train['tail'].apply(lambda x: isinstance(x, float))])"
   ]
  },
  {
   "cell_type": "code",
   "execution_count": null,
   "metadata": {},
   "outputs": [],
   "source": [
    "nlp = spacy.load('en_core_web_sm')\n",
    "\n",
    "atomic_train['verbs_head'] = None\n",
    "atomic_train['verbs_tail'] = None\n",
    "for row in tqdm(atomic_train.itertuples(), total=atomic_train_length):\n",
    "    if (not isinstance(row.head, str)) or (not isinstance(row.tail, str)):\n",
    "        continue\n",
    "\n",
    "    col1 = nlp(row.head.replace('PersonX', 'Person').replace('PersonY', 'Person'))\n",
    "    col2 = nlp(row.tail)\n",
    "\n",
    "    tmp1 = set([token.lemma_ for token in col1 if token.pos_ == 'VERB'])\n",
    "    tmp2 = set([token.lemma_ for token in col2 if token.pos_ == 'VERB'])\n",
    "\n",
    "    atomic_train.at[row.Index, 'verbs_head'] = tmp1\n",
    "    atomic_train.at[row.Index, 'verbs_tail'] = tmp2\n",
    "\n",
    "display(atomic_train.head())"
   ]
  },
  {
   "cell_type": "code",
   "execution_count": null,
   "metadata": {},
   "outputs": [],
   "source": [
    "nlp = spacy.load('en_core_web_sm')\n",
    "\n",
    "atomic_dev['verbs_head'] = None\n",
    "atomic_dev['verbs_tail'] = None\n",
    "for row in tqdm(atomic_dev.itertuples(), total=atomic_dev_length):\n",
    "    if (not isinstance(row.head, str)) or (not isinstance(row.tail, str)):\n",
    "        continue\n",
    "    \n",
    "    col1 = nlp(row.head.replace('PersonX', 'Person').replace('PersonY', 'Person'))\n",
    "    col2 = nlp(row.tail)\n",
    "\n",
    "    tmp1 = set([token.lemma_ for token in col1 if token.pos_ == 'VERB'])\n",
    "    tmp2 = set([token.lemma_ for token in col2 if token.pos_ == 'VERB'])\n",
    "\n",
    "    atomic_dev.at[row.Index, 'verbs_head'] = tmp1\n",
    "    atomic_dev.at[row.Index, 'verbs_tail'] = tmp2"
   ]
  },
  {
   "cell_type": "code",
   "execution_count": null,
   "metadata": {},
   "outputs": [],
   "source": [
    "nlp = spacy.load('en_core_web_sm')\n",
    "\n",
    "atomic_test['verbs_head'] = None\n",
    "atomic_test['verbs_tail'] = None\n",
    "for row in tqdm(atomic_test.itertuples(), total=atomic_test_length):\n",
    "    if (not isinstance(row.head, str)) or (not isinstance(row.tail, str)):\n",
    "        continue\n",
    "    \n",
    "    col1 = nlp(row.head.replace('PersonX', 'Person').replace('PersonY', 'Person'))\n",
    "    col2 = nlp(row.tail)\n",
    "\n",
    "    tmp1 = set([token.lemma_ for token in col1 if token.pos_ == 'VERB'])\n",
    "    tmp2 = set([token.lemma_ for token in col2 if token.pos_ == 'VERB'])\n",
    "\n",
    "    atomic_test.at[row.Index, 'verbs_head'] = tmp1\n",
    "    atomic_test.at[row.Index, 'verbs_tail'] = tmp2"
   ]
  },
  {
   "cell_type": "code",
   "execution_count": null,
   "metadata": {},
   "outputs": [],
   "source": [
    "atomic_train['match'] = None\n",
    "for row in tqdm(atomic_train.itertuples(), total=atomic_train_length):\n",
    "    if (not isinstance(row.verbs_head, set)) or (not isinstance(row.verbs_tail, set)) or (not isinstance(piqa_verbs, set)):\n",
    "        continue\n",
    "\n",
    "    if (row.verbs_head & piqa_verbs) or (row.verbs_tail & piqa_verbs):\n",
    "        atomic_train.at[row.Index, 'match'] = True\n",
    "    \n",
    "    else:\n",
    "        atomic_train.at[row.Index, 'match'] = False\n",
    "        \n",
    "display(atomic_train[atomic_train['match'] == True].head())\n",
    "print(len(atomic_train[atomic_train['match'] == True]))\n",
    "print(len(atomic_train[atomic_train['match'] == False]))"
   ]
  },
  {
   "cell_type": "code",
   "execution_count": null,
   "metadata": {},
   "outputs": [],
   "source": [
    "atomic_dev['match'] = None\n",
    "for row in tqdm(atomic_dev.itertuples(), total=atomic_dev_length):\n",
    "    if (not isinstance(row.verbs_head, set)) or (not isinstance(row.verbs_tail, set)) or (not isinstance(piqa_verbs, set)):\n",
    "        continue\n",
    "    \n",
    "    if (row.verbs_head & piqa_verbs) or (row.verbs_tail & piqa_verbs):\n",
    "        atomic_dev.at[row.Index, 'match'] = True\n",
    "    \n",
    "    else:\n",
    "        atomic_dev.at[row.Index, 'match'] = False\n",
    "\n",
    "display(atomic_dev[atomic_dev['match'] == True].head())\n",
    "print(len(atomic_dev[atomic_dev['match'] == True]))\n",
    "print(len(atomic_dev[atomic_dev['match'] == False]))"
   ]
  },
  {
   "cell_type": "code",
   "execution_count": null,
   "metadata": {},
   "outputs": [],
   "source": [
    "atomic_test['match'] = None\n",
    "for row in tqdm(atomic_test.itertuples(), total=atomic_test_length):\n",
    "    if (not isinstance(row.verbs_head, set)) or (not isinstance(row.verbs_tail, set)) or (not isinstance(piqa_verbs, set)):\n",
    "        continue\n",
    "    \n",
    "    if (row.verbs_head & piqa_verbs) or (row.verbs_tail & piqa_verbs):\n",
    "        atomic_test.at[row.Index, 'match'] = True\n",
    "    \n",
    "    else:\n",
    "        atomic_test.at[row.Index, 'match'] = False\n",
    "\n",
    "display(atomic_test[atomic_test['match'] == True].head())\n",
    "print(len(atomic_test[atomic_test['match'] == True]))\n",
    "print(len(atomic_test[atomic_test['match'] == False]))"
   ]
  },
  {
   "cell_type": "code",
   "execution_count": null,
   "metadata": {},
   "outputs": [],
   "source": [
    "atomic_train[atomic_train['match'] == True][['head', 'relation', 'tail']].to_csv(\n",
    "    \"./output/atomic_train_match.tsv\", sep='\\t', index=False, header=False)"
   ]
  },
  {
   "cell_type": "code",
   "execution_count": null,
   "metadata": {},
   "outputs": [],
   "source": [
    "atomic_dev[atomic_dev['match'] == True][['head', 'relation', 'tail']].to_csv(\n",
    "    \"./output/atomic_dev_match.tsv\", sep='\\t', index=False, header=False)"
   ]
  },
  {
   "cell_type": "code",
   "execution_count": null,
   "metadata": {},
   "outputs": [],
   "source": [
    "atomic_test[atomic_test['match'] == True][['head', 'relation', 'tail']].to_csv(\n",
    "    \"./output/atomic_test_match.tsv\", sep='\\t', index=False, header=False)"
   ]
  },
  {
   "cell_type": "code",
   "execution_count": null,
   "metadata": {},
   "outputs": [],
   "source": [
    "atomic_train[atomic_train['match'] == True].to_csv(\"./output/atomic_train_match_full.tsv\", sep='\\t', index=False, header=False)"
   ]
  },
  {
   "cell_type": "code",
   "execution_count": null,
   "metadata": {},
   "outputs": [],
   "source": [
    "atomic_dev[atomic_dev['match'] == True].to_csv(\"./output/atomic_dev_match_full.tsv\", sep='\\t', index=False, header=False)"
   ]
  },
  {
   "cell_type": "code",
   "execution_count": null,
   "metadata": {},
   "outputs": [],
   "source": [
    "atomic_test[atomic_test['match'] == True].to_csv(\"./output/atomic_test_match_full.tsv\", sep='\\t', index=False, header=False)"
   ]
  }
 ],
 "metadata": {
  "kernelspec": {
   "display_name": "Python 3.8.13 64-bit ('commonsense-env')",
   "language": "python",
   "name": "python3"
  },
  "language_info": {
   "codemirror_mode": {
    "name": "ipython",
    "version": 3
   },
   "file_extension": ".py",
   "mimetype": "text/x-python",
   "name": "python",
   "nbconvert_exporter": "python",
   "pygments_lexer": "ipython3",
   "version": "3.8.13"
  },
  "orig_nbformat": 4,
  "vscode": {
   "interpreter": {
    "hash": "6f4007100c6443a8e727b9f63f13e080e1241b0bd453ef16fb4b6d271ac8f8bd"
   }
  }
 },
 "nbformat": 4,
 "nbformat_minor": 2
}
