{
 "cells": [
  {
   "cell_type": "markdown",
   "metadata": {},
   "source": [
    "# 1. Collect PIQA-Verb"
   ]
  },
  {
   "cell_type": "code",
   "execution_count": null,
   "metadata": {},
   "outputs": [],
   "source": [
    "import pandas as pd\n",
    "import json\n",
    "\n",
    "import spacy\n",
    "from tqdm import tqdm"
   ]
  },
  {
   "cell_type": "markdown",
   "metadata": {},
   "source": [
    "## 1.1 Load PIQA Dataset"
   ]
  },
  {
   "cell_type": "code",
   "execution_count": null,
   "metadata": {},
   "outputs": [],
   "source": [
    "tmp = []\n",
    "with open('./PIQA/train.jsonl') as f:\n",
    "    for obj in f:\n",
    "        tmp.append(json.loads(obj))\n",
    "\n",
    "piqa_train = pd.DataFrame(tmp)\n",
    "display(piqa_train.head())"
   ]
  },
  {
   "cell_type": "code",
   "execution_count": null,
   "metadata": {},
   "outputs": [],
   "source": [
    "tmp = []\n",
    "with open('./PIQA/valid.jsonl') as f:\n",
    "    for obj in f:\n",
    "        tmp.append(json.loads(obj))\n",
    "\n",
    "piqa_valid = pd.DataFrame(tmp)\n",
    "display(piqa_valid.head())"
   ]
  },
  {
   "cell_type": "code",
   "execution_count": null,
   "metadata": {},
   "outputs": [],
   "source": [
    "tmp = []\n",
    "with open('./PIQA/tests.jsonl') as f:\n",
    "    for obj in f:\n",
    "        tmp.append(json.loads(obj))\n",
    "\n",
    "piqa_tests = pd.DataFrame(tmp)\n",
    "display(piqa_tests.head())"
   ]
  },
  {
   "cell_type": "markdown",
   "metadata": {},
   "source": [
    "## 1.2 Collect PIQA-Verb"
   ]
  },
  {
   "cell_type": "markdown",
   "metadata": {},
   "source": [
    "```$ python -m spacy download en_core_web_trf```"
   ]
  },
  {
   "cell_type": "code",
   "execution_count": null,
   "metadata": {},
   "outputs": [],
   "source": [
    "piqa_train_length = len(piqa_train)\n",
    "print(piqa_train_length)"
   ]
  },
  {
   "cell_type": "code",
   "execution_count": null,
   "metadata": {},
   "outputs": [],
   "source": [
    "piqa_valid_length = len(piqa_valid)\n",
    "print(piqa_valid_length)"
   ]
  },
  {
   "cell_type": "code",
   "execution_count": null,
   "metadata": {},
   "outputs": [],
   "source": [
    "piqa_tests_length = len(piqa_tests)\n",
    "print(piqa_tests_length)"
   ]
  },
  {
   "cell_type": "markdown",
   "metadata": {},
   "source": [
    "### 1.2.1 Collect PIQA-Verb by ```en_core_web_trf``` in spaCy"
   ]
  },
  {
   "cell_type": "code",
   "execution_count": null,
   "metadata": {},
   "outputs": [],
   "source": [
    "nlp = spacy.load('en_core_web_trf')\n",
    "\n",
    "piqa_train['verbs'] = None\n",
    "piqa_verb_train = set()\n",
    "\n",
    "for row in tqdm(piqa_train.itertuples(), total=piqa_train_length):\n",
    "    col1 = nlp(row.goal)\n",
    "    col2 = nlp(row.sol1)\n",
    "    col3 = nlp(row.sol2)\n",
    "    \n",
    "    tmp = set()\n",
    "    tmp.update([token.lemma_ for token in col1 if token.pos_ == 'VERB'])\n",
    "    tmp.update([token.lemma_ for token in col2 if token.pos_ == 'VERB'])\n",
    "    tmp.update([token.lemma_ for token in col3 if token.pos_ == 'VERB'])\n",
    "\n",
    "    piqa_train.at[row.Index, 'verbs'] = tmp\n",
    "    piqa_verb_train.update(tmp)\n",
    "\n",
    "print(len(piqa_verb_train))"
   ]
  },
  {
   "cell_type": "code",
   "execution_count": null,
   "metadata": {},
   "outputs": [],
   "source": [
    "piqa_valid['verbs'] = None\n",
    "piqa_verb_valid = set()\n",
    "\n",
    "for row in tqdm(piqa_valid.itertuples(), total=piqa_valid_length):\n",
    "    col1 = nlp(row.goal)\n",
    "    col2 = nlp(row.sol1)\n",
    "    col3 = nlp(row.sol2)\n",
    "    \n",
    "    tmp = set()\n",
    "    tmp.update([token.lemma_ for token in col1 if token.pos_ == 'VERB'])\n",
    "    tmp.update([token.lemma_ for token in col2 if token.pos_ == 'VERB'])\n",
    "    tmp.update([token.lemma_ for token in col3 if token.pos_ == 'VERB'])\n",
    "\n",
    "    piqa_valid.at[row.Index, 'verbs'] = tmp\n",
    "    piqa_verb_valid.update(tmp)\n",
    "\n",
    "print(len(piqa_verb_valid))"
   ]
  },
  {
   "cell_type": "code",
   "execution_count": null,
   "metadata": {},
   "outputs": [],
   "source": [
    "piqa_tests['verbs'] = None\n",
    "piqa_verb_tests = set()\n",
    "\n",
    "for row in tqdm(piqa_tests.itertuples(), total=piqa_tests_length):\n",
    "    col1 = nlp(row.goal)\n",
    "    col2 = nlp(row.sol1)\n",
    "    col3 = nlp(row.sol2)\n",
    "    \n",
    "    tmp = set()\n",
    "    tmp.update([token.lemma_ for token in col1 if token.pos_ == 'VERB'])\n",
    "    tmp.update([token.lemma_ for token in col2 if token.pos_ == 'VERB'])\n",
    "    tmp.update([token.lemma_ for token in col3 if token.pos_ == 'VERB'])\n",
    "\n",
    "    piqa_tests.at[row.Index, 'verbs'] = tmp\n",
    "    piqa_verb_tests.update(tmp)\n",
    "\n",
    "print(len(piqa_verb_tests))"
   ]
  },
  {
   "cell_type": "markdown",
   "metadata": {},
   "source": [
    "### 1.2.2 Save PIQA-Verb by version"
   ]
  },
  {
   "cell_type": "code",
   "execution_count": null,
   "metadata": {},
   "outputs": [],
   "source": [
    "piqa_verb_train_df = pd.DataFrame(piqa_verb_train)\n",
    "piqa_verb_train_df.to_csv(\"./outputs/PIQA-Verb/train.txt\", index=False, header=False)"
   ]
  },
  {
   "cell_type": "code",
   "execution_count": null,
   "metadata": {},
   "outputs": [],
   "source": [
    "piqa_verb_valid_df = pd.DataFrame(piqa_valid_verbs)\n",
    "piqa_verb_valid_df.to_csv(\"./outputs/PIQA-Verb/valid.txt\", index=False, header=False)"
   ]
  },
  {
   "cell_type": "code",
   "execution_count": null,
   "metadata": {},
   "outputs": [],
   "source": [
    "piqa_verb_tests_df = pd.DataFrame(piqa_verb_tests)\n",
    "piqa_verb_tests_df.to_csv(\"./outputs/PIQA-Verb/tests.txt\", index=False, header=False)"
   ]
  },
  {
   "cell_type": "markdown",
   "metadata": {},
   "source": [
    "### 1.2.3 Save PIQA-Verb Full Version"
   ]
  },
  {
   "cell_type": "code",
   "execution_count": null,
   "metadata": {},
   "outputs": [],
   "source": [
    "piqa_verb = set()\n",
    "piqa_verb.update(piqa_verb_train)\n",
    "piqa_verb.update(piqa_verb_valid)\n",
    "piqa_verb.update(piqa_verb_tests)\n",
    "\n",
    "print(len(piqa_verb))"
   ]
  },
  {
   "cell_type": "code",
   "execution_count": null,
   "metadata": {},
   "outputs": [],
   "source": [
    "piqa_verbs_df = pd.DataFrame(piqa_verb)\n",
    "piqa_verbs_df.to_csv(\"./outputs/PIQA-Verb/all.txt\", index=False, header=False)"
   ]
  }
 ],
 "metadata": {
  "kernelspec": {
   "display_name": "Python 3.8.13 64-bit ('commonsense-env')",
   "language": "python",
   "name": "python3"
  },
  "language_info": {
   "codemirror_mode": {
    "name": "ipython",
    "version": 3
   },
   "file_extension": ".py",
   "mimetype": "text/x-python",
   "name": "python",
   "nbconvert_exporter": "python",
   "pygments_lexer": "ipython3",
   "version": "3.8.13"
  },
  "orig_nbformat": 4,
  "vscode": {
   "interpreter": {
    "hash": "6f4007100c6443a8e727b9f63f13e080e1241b0bd453ef16fb4b6d271ac8f8bd"
   }
  }
 },
 "nbformat": 4,
 "nbformat_minor": 2
}
