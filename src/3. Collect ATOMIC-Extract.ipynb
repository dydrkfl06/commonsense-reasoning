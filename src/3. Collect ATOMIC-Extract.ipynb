{
 "cells": [
  {
   "cell_type": "markdown",
   "metadata": {},
   "source": [
    "# 3. Collect ATOMIC-Extract"
   ]
  },
  {
   "cell_type": "code",
   "execution_count": null,
   "metadata": {},
   "outputs": [],
   "source": [
    "import pandas as pd\n",
    "import json\n",
    "\n",
    "import spacy\n",
    "from tqdm import tqdm"
   ]
  },
  {
   "cell_type": "markdown",
   "metadata": {},
   "source": [
    "## 3.1 Load ATOMIC Dataset"
   ]
  },
  {
   "cell_type": "code",
   "execution_count": 16,
   "metadata": {},
   "outputs": [
    {
     "data": {
      "text/html": [
       "<div>\n",
       "<style scoped>\n",
       "    .dataframe tbody tr th:only-of-type {\n",
       "        vertical-align: middle;\n",
       "    }\n",
       "\n",
       "    .dataframe tbody tr th {\n",
       "        vertical-align: top;\n",
       "    }\n",
       "\n",
       "    .dataframe thead th {\n",
       "        text-align: right;\n",
       "    }\n",
       "</style>\n",
       "<table border=\"1\" class=\"dataframe\">\n",
       "  <thead>\n",
       "    <tr style=\"text-align: right;\">\n",
       "      <th></th>\n",
       "      <th>head</th>\n",
       "      <th>relation</th>\n",
       "      <th>tail</th>\n",
       "    </tr>\n",
       "  </thead>\n",
       "  <tbody>\n",
       "    <tr>\n",
       "      <th>0</th>\n",
       "      <td>PersonX abandons ___ altogether</td>\n",
       "      <td>oEffect</td>\n",
       "      <td>none</td>\n",
       "    </tr>\n",
       "    <tr>\n",
       "      <th>1</th>\n",
       "      <td>PersonX abandons ___ altogether</td>\n",
       "      <td>oEffect</td>\n",
       "      <td>none</td>\n",
       "    </tr>\n",
       "    <tr>\n",
       "      <th>2</th>\n",
       "      <td>PersonX abandons ___ altogether</td>\n",
       "      <td>oReact</td>\n",
       "      <td>dejected</td>\n",
       "    </tr>\n",
       "    <tr>\n",
       "      <th>3</th>\n",
       "      <td>PersonX abandons ___ altogether</td>\n",
       "      <td>oWant</td>\n",
       "      <td>none</td>\n",
       "    </tr>\n",
       "    <tr>\n",
       "      <th>4</th>\n",
       "      <td>PersonX abandons ___ altogether</td>\n",
       "      <td>oWant</td>\n",
       "      <td>none</td>\n",
       "    </tr>\n",
       "  </tbody>\n",
       "</table>\n",
       "</div>"
      ],
      "text/plain": [
       "                              head relation      tail\n",
       "0  PersonX abandons ___ altogether  oEffect      none\n",
       "1  PersonX abandons ___ altogether  oEffect      none\n",
       "2  PersonX abandons ___ altogether   oReact  dejected\n",
       "3  PersonX abandons ___ altogether    oWant      none\n",
       "4  PersonX abandons ___ altogether    oWant      none"
      ]
     },
     "metadata": {},
     "output_type": "display_data"
    }
   ],
   "source": [
    "colnames = ['head', 'relation', 'tail']\n",
    "atomic_train = pd.read_csv('./atomic2020/train.tsv', sep='\\t', names=colnames, header=None)\n",
    "display(atomic_train.head())"
   ]
  },
  {
   "cell_type": "code",
   "execution_count": 17,
   "metadata": {},
   "outputs": [
    {
     "data": {
      "text/html": [
       "<div>\n",
       "<style scoped>\n",
       "    .dataframe tbody tr th:only-of-type {\n",
       "        vertical-align: middle;\n",
       "    }\n",
       "\n",
       "    .dataframe tbody tr th {\n",
       "        vertical-align: top;\n",
       "    }\n",
       "\n",
       "    .dataframe thead th {\n",
       "        text-align: right;\n",
       "    }\n",
       "</style>\n",
       "<table border=\"1\" class=\"dataframe\">\n",
       "  <thead>\n",
       "    <tr style=\"text-align: right;\">\n",
       "      <th></th>\n",
       "      <th>head</th>\n",
       "      <th>relation</th>\n",
       "      <th>tail</th>\n",
       "    </tr>\n",
       "  </thead>\n",
       "  <tbody>\n",
       "    <tr>\n",
       "      <th>0</th>\n",
       "      <td>PersonX 'd better go</td>\n",
       "      <td>oEffect</td>\n",
       "      <td>none</td>\n",
       "    </tr>\n",
       "    <tr>\n",
       "      <th>1</th>\n",
       "      <td>PersonX 'd better go</td>\n",
       "      <td>oEffect</td>\n",
       "      <td>none</td>\n",
       "    </tr>\n",
       "    <tr>\n",
       "      <th>2</th>\n",
       "      <td>PersonX 'd better go</td>\n",
       "      <td>oReact</td>\n",
       "      <td>none</td>\n",
       "    </tr>\n",
       "    <tr>\n",
       "      <th>3</th>\n",
       "      <td>PersonX 'd better go</td>\n",
       "      <td>oReact</td>\n",
       "      <td>none</td>\n",
       "    </tr>\n",
       "    <tr>\n",
       "      <th>4</th>\n",
       "      <td>PersonX 'd better go</td>\n",
       "      <td>oWant</td>\n",
       "      <td>none</td>\n",
       "    </tr>\n",
       "  </tbody>\n",
       "</table>\n",
       "</div>"
      ],
      "text/plain": [
       "                   head relation  tail\n",
       "0  PersonX 'd better go  oEffect  none\n",
       "1  PersonX 'd better go  oEffect  none\n",
       "2  PersonX 'd better go   oReact  none\n",
       "3  PersonX 'd better go   oReact  none\n",
       "4  PersonX 'd better go    oWant  none"
      ]
     },
     "metadata": {},
     "output_type": "display_data"
    }
   ],
   "source": [
    "atomic_dev = pd.read_csv('./atomic2020/dev.tsv', sep='\\t', names=colnames, header=None)\n",
    "display(atomic_dev.head())"
   ]
  },
  {
   "cell_type": "code",
   "execution_count": 18,
   "metadata": {},
   "outputs": [
    {
     "data": {
      "text/html": [
       "<div>\n",
       "<style scoped>\n",
       "    .dataframe tbody tr th:only-of-type {\n",
       "        vertical-align: middle;\n",
       "    }\n",
       "\n",
       "    .dataframe tbody tr th {\n",
       "        vertical-align: top;\n",
       "    }\n",
       "\n",
       "    .dataframe thead th {\n",
       "        text-align: right;\n",
       "    }\n",
       "</style>\n",
       "<table border=\"1\" class=\"dataframe\">\n",
       "  <thead>\n",
       "    <tr style=\"text-align: right;\">\n",
       "      <th></th>\n",
       "      <th>head</th>\n",
       "      <th>relation</th>\n",
       "      <th>tail</th>\n",
       "    </tr>\n",
       "  </thead>\n",
       "  <tbody>\n",
       "    <tr>\n",
       "      <th>0</th>\n",
       "      <td>PersonX abuses PersonX's power</td>\n",
       "      <td>oEffect</td>\n",
       "      <td>are told what to do</td>\n",
       "    </tr>\n",
       "    <tr>\n",
       "      <th>1</th>\n",
       "      <td>PersonX abuses PersonX's power</td>\n",
       "      <td>oEffect</td>\n",
       "      <td>given unfair consequences or punishment</td>\n",
       "    </tr>\n",
       "    <tr>\n",
       "      <th>2</th>\n",
       "      <td>PersonX abuses PersonX's power</td>\n",
       "      <td>oEffect</td>\n",
       "      <td>reach out for help</td>\n",
       "    </tr>\n",
       "    <tr>\n",
       "      <th>3</th>\n",
       "      <td>PersonX abuses PersonX's power</td>\n",
       "      <td>oEffect</td>\n",
       "      <td>none</td>\n",
       "    </tr>\n",
       "    <tr>\n",
       "      <th>4</th>\n",
       "      <td>PersonX abuses PersonX's power</td>\n",
       "      <td>oReact</td>\n",
       "      <td>humiliated</td>\n",
       "    </tr>\n",
       "  </tbody>\n",
       "</table>\n",
       "</div>"
      ],
      "text/plain": [
       "                             head relation  \\\n",
       "0  PersonX abuses PersonX's power  oEffect   \n",
       "1  PersonX abuses PersonX's power  oEffect   \n",
       "2  PersonX abuses PersonX's power  oEffect   \n",
       "3  PersonX abuses PersonX's power  oEffect   \n",
       "4  PersonX abuses PersonX's power   oReact   \n",
       "\n",
       "                                      tail  \n",
       "0                      are told what to do  \n",
       "1  given unfair consequences or punishment  \n",
       "2                       reach out for help  \n",
       "3                                     none  \n",
       "4                               humiliated  "
      ]
     },
     "metadata": {},
     "output_type": "display_data"
    }
   ],
   "source": [
    "atomic_test = pd.read_csv('./atomic2020/test.tsv', sep='\\t', names=colnames, header=None)\n",
    "display(atomic_test.head())"
   ]
  },
  {
   "cell_type": "markdown",
   "metadata": {},
   "source": [
    "## 3.2 Load PIQA-Verb"
   ]
  },
  {
   "cell_type": "code",
   "execution_count": 19,
   "metadata": {},
   "outputs": [
    {
     "name": "stdout",
     "output_type": "stream",
     "text": [
      "3100\n"
     ]
    }
   ],
   "source": [
    "piqa_verbs = set(line.strip() for line in open('./outputs/PIQA-Verb/full.txt'))\n",
    "print(len(piqa_verbs))"
   ]
  },
  {
   "cell_type": "markdown",
   "metadata": {},
   "source": [
    "## 3.3 Collect ATOMIC-Extract"
   ]
  },
  {
   "cell_type": "markdown",
   "metadata": {},
   "source": [
    "### 3.3.1 Find ATOMIC Verbs by ```en_core_web_trf``` in spaCy"
   ]
  },
  {
   "cell_type": "code",
   "execution_count": 20,
   "metadata": {},
   "outputs": [
    {
     "name": "stdout",
     "output_type": "stream",
     "text": [
      "1076880\n"
     ]
    }
   ],
   "source": [
    "atomic_train_length = len(atomic_train)\n",
    "print(atomic_train_length)"
   ]
  },
  {
   "cell_type": "code",
   "execution_count": 21,
   "metadata": {},
   "outputs": [
    {
     "name": "stdout",
     "output_type": "stream",
     "text": [
      "102024\n"
     ]
    }
   ],
   "source": [
    "atomic_dev_length = len(atomic_dev)\n",
    "print(atomic_dev_length)"
   ]
  },
  {
   "cell_type": "code",
   "execution_count": 22,
   "metadata": {},
   "outputs": [
    {
     "name": "stdout",
     "output_type": "stream",
     "text": [
      "152209\n"
     ]
    }
   ],
   "source": [
    "atomic_test_length = len(atomic_test)\n",
    "print(atomic_test_length)"
   ]
  },
  {
   "cell_type": "code",
   "execution_count": 23,
   "metadata": {},
   "outputs": [
    {
     "data": {
      "text/html": [
       "<div>\n",
       "<style scoped>\n",
       "    .dataframe tbody tr th:only-of-type {\n",
       "        vertical-align: middle;\n",
       "    }\n",
       "\n",
       "    .dataframe tbody tr th {\n",
       "        vertical-align: top;\n",
       "    }\n",
       "\n",
       "    .dataframe thead th {\n",
       "        text-align: right;\n",
       "    }\n",
       "</style>\n",
       "<table border=\"1\" class=\"dataframe\">\n",
       "  <thead>\n",
       "    <tr style=\"text-align: right;\">\n",
       "      <th></th>\n",
       "      <th>head</th>\n",
       "      <th>relation</th>\n",
       "      <th>tail</th>\n",
       "    </tr>\n",
       "  </thead>\n",
       "  <tbody>\n",
       "    <tr>\n",
       "      <th>6000</th>\n",
       "      <td>PersonX affects PersonY's health</td>\n",
       "      <td>oReact</td>\n",
       "      <td>NaN</td>\n",
       "    </tr>\n",
       "    <tr>\n",
       "      <th>6018</th>\n",
       "      <td>PersonX affects PersonY's health</td>\n",
       "      <td>xReact</td>\n",
       "      <td>NaN</td>\n",
       "    </tr>\n",
       "    <tr>\n",
       "      <th>6048</th>\n",
       "      <td>PersonX affects PersonY's life</td>\n",
       "      <td>xReact</td>\n",
       "      <td>NaN</td>\n",
       "    </tr>\n",
       "    <tr>\n",
       "      <th>17115</th>\n",
       "      <td>PersonX asks PersonY to let</td>\n",
       "      <td>oReact</td>\n",
       "      <td>NaN</td>\n",
       "    </tr>\n",
       "    <tr>\n",
       "      <th>36675</th>\n",
       "      <td>PersonX binds together the ___</td>\n",
       "      <td>xReact</td>\n",
       "      <td>NaN</td>\n",
       "    </tr>\n",
       "    <tr>\n",
       "      <th>...</th>\n",
       "      <td>...</td>\n",
       "      <td>...</td>\n",
       "      <td>...</td>\n",
       "    </tr>\n",
       "    <tr>\n",
       "      <th>1063998</th>\n",
       "      <td>PersonX uses PersonX's internet</td>\n",
       "      <td>HinderedBy</td>\n",
       "      <td>NaN</td>\n",
       "    </tr>\n",
       "    <tr>\n",
       "      <th>1064418</th>\n",
       "      <td>PersonX hears a knock</td>\n",
       "      <td>HinderedBy</td>\n",
       "      <td>NaN</td>\n",
       "    </tr>\n",
       "    <tr>\n",
       "      <th>1064740</th>\n",
       "      <td>PersonX plays catch</td>\n",
       "      <td>HinderedBy</td>\n",
       "      <td>NaN</td>\n",
       "    </tr>\n",
       "    <tr>\n",
       "      <th>1064868</th>\n",
       "      <td>PersonX shows it to PersonY's parents</td>\n",
       "      <td>HinderedBy</td>\n",
       "      <td>NaN</td>\n",
       "    </tr>\n",
       "    <tr>\n",
       "      <th>1064877</th>\n",
       "      <td>PersonX takes PersonY out to eat</td>\n",
       "      <td>HinderedBy</td>\n",
       "      <td>NaN</td>\n",
       "    </tr>\n",
       "  </tbody>\n",
       "</table>\n",
       "<p>145 rows × 3 columns</p>\n",
       "</div>"
      ],
      "text/plain": [
       "                                          head    relation tail\n",
       "6000          PersonX affects PersonY's health      oReact  NaN\n",
       "6018          PersonX affects PersonY's health      xReact  NaN\n",
       "6048            PersonX affects PersonY's life      xReact  NaN\n",
       "17115              PersonX asks PersonY to let      oReact  NaN\n",
       "36675           PersonX binds together the ___      xReact  NaN\n",
       "...                                        ...         ...  ...\n",
       "1063998        PersonX uses PersonX's internet  HinderedBy  NaN\n",
       "1064418                  PersonX hears a knock  HinderedBy  NaN\n",
       "1064740                    PersonX plays catch  HinderedBy  NaN\n",
       "1064868  PersonX shows it to PersonY's parents  HinderedBy  NaN\n",
       "1064877       PersonX takes PersonY out to eat  HinderedBy  NaN\n",
       "\n",
       "[145 rows x 3 columns]"
      ]
     },
     "metadata": {},
     "output_type": "display_data"
    }
   ],
   "source": [
    "# check if tail is float\n",
    "display(atomic_train[atomic_train['tail'].apply(lambda x: isinstance(x, float))])"
   ]
  },
  {
   "cell_type": "code",
   "execution_count": 24,
   "metadata": {},
   "outputs": [
    {
     "name": "stderr",
     "output_type": "stream",
     "text": [
      "100%|██████████| 1076880/1076880 [2:38:57<00:00, 112.91it/s]   \n"
     ]
    },
    {
     "data": {
      "text/html": [
       "<div>\n",
       "<style scoped>\n",
       "    .dataframe tbody tr th:only-of-type {\n",
       "        vertical-align: middle;\n",
       "    }\n",
       "\n",
       "    .dataframe tbody tr th {\n",
       "        vertical-align: top;\n",
       "    }\n",
       "\n",
       "    .dataframe thead th {\n",
       "        text-align: right;\n",
       "    }\n",
       "</style>\n",
       "<table border=\"1\" class=\"dataframe\">\n",
       "  <thead>\n",
       "    <tr style=\"text-align: right;\">\n",
       "      <th></th>\n",
       "      <th>head</th>\n",
       "      <th>relation</th>\n",
       "      <th>tail</th>\n",
       "      <th>verbs_head</th>\n",
       "      <th>verbs_tail</th>\n",
       "    </tr>\n",
       "  </thead>\n",
       "  <tbody>\n",
       "    <tr>\n",
       "      <th>0</th>\n",
       "      <td>PersonX abandons ___ altogether</td>\n",
       "      <td>oEffect</td>\n",
       "      <td>none</td>\n",
       "      <td>{abandon}</td>\n",
       "      <td>{}</td>\n",
       "    </tr>\n",
       "    <tr>\n",
       "      <th>1</th>\n",
       "      <td>PersonX abandons ___ altogether</td>\n",
       "      <td>oEffect</td>\n",
       "      <td>none</td>\n",
       "      <td>{abandon}</td>\n",
       "      <td>{}</td>\n",
       "    </tr>\n",
       "    <tr>\n",
       "      <th>2</th>\n",
       "      <td>PersonX abandons ___ altogether</td>\n",
       "      <td>oReact</td>\n",
       "      <td>dejected</td>\n",
       "      <td>{abandon}</td>\n",
       "      <td>{deject}</td>\n",
       "    </tr>\n",
       "    <tr>\n",
       "      <th>3</th>\n",
       "      <td>PersonX abandons ___ altogether</td>\n",
       "      <td>oWant</td>\n",
       "      <td>none</td>\n",
       "      <td>{abandon}</td>\n",
       "      <td>{}</td>\n",
       "    </tr>\n",
       "    <tr>\n",
       "      <th>4</th>\n",
       "      <td>PersonX abandons ___ altogether</td>\n",
       "      <td>oWant</td>\n",
       "      <td>none</td>\n",
       "      <td>{abandon}</td>\n",
       "      <td>{}</td>\n",
       "    </tr>\n",
       "  </tbody>\n",
       "</table>\n",
       "</div>"
      ],
      "text/plain": [
       "                              head relation      tail verbs_head verbs_tail\n",
       "0  PersonX abandons ___ altogether  oEffect      none  {abandon}         {}\n",
       "1  PersonX abandons ___ altogether  oEffect      none  {abandon}         {}\n",
       "2  PersonX abandons ___ altogether   oReact  dejected  {abandon}   {deject}\n",
       "3  PersonX abandons ___ altogether    oWant      none  {abandon}         {}\n",
       "4  PersonX abandons ___ altogether    oWant      none  {abandon}         {}"
      ]
     },
     "metadata": {},
     "output_type": "display_data"
    }
   ],
   "source": [
    "nlp = spacy.load('en_core_web_trf')\n",
    "\n",
    "atomic_train['verbs_head'] = None\n",
    "atomic_train['verbs_tail'] = None\n",
    "for row in tqdm(atomic_train.itertuples(), total=atomic_train_length):\n",
    "    if (not isinstance(row.head, str)) or (not isinstance(row.tail, str)):\n",
    "        continue\n",
    "\n",
    "    col1 = nlp(row.head)\n",
    "    col2 = nlp(row.tail)\n",
    "\n",
    "    tmp1 = set([token.lemma_ for token in col1 if token.pos_ == 'VERB'])\n",
    "    tmp2 = set([token.lemma_ for token in col2 if token.pos_ == 'VERB'])\n",
    "\n",
    "    atomic_train.at[row.Index, 'verbs_head'] = tmp1\n",
    "    atomic_train.at[row.Index, 'verbs_tail'] = tmp2\n",
    "\n",
    "display(atomic_train.head())"
   ]
  },
  {
   "cell_type": "code",
   "execution_count": 25,
   "metadata": {},
   "outputs": [
    {
     "name": "stderr",
     "output_type": "stream",
     "text": [
      "100%|██████████| 102024/102024 [09:00<00:00, 188.62it/s]\n"
     ]
    }
   ],
   "source": [
    "atomic_dev['verbs_head'] = None\n",
    "atomic_dev['verbs_tail'] = None\n",
    "for row in tqdm(atomic_dev.itertuples(), total=atomic_dev_length):\n",
    "    if (not isinstance(row.head, str)) or (not isinstance(row.tail, str)):\n",
    "        continue\n",
    "    \n",
    "    col1 = nlp(row.head)\n",
    "    col2 = nlp(row.tail)\n",
    "\n",
    "    tmp1 = set([token.lemma_ for token in col1 if token.pos_ == 'VERB'])\n",
    "    tmp2 = set([token.lemma_ for token in col2 if token.pos_ == 'VERB'])\n",
    "\n",
    "    atomic_dev.at[row.Index, 'verbs_head'] = tmp1\n",
    "    atomic_dev.at[row.Index, 'verbs_tail'] = tmp2"
   ]
  },
  {
   "cell_type": "code",
   "execution_count": 26,
   "metadata": {},
   "outputs": [
    {
     "name": "stderr",
     "output_type": "stream",
     "text": [
      "100%|██████████| 152209/152209 [13:56<00:00, 182.06it/s]\n"
     ]
    }
   ],
   "source": [
    "atomic_test['verbs_head'] = None\n",
    "atomic_test['verbs_tail'] = None\n",
    "for row in tqdm(atomic_test.itertuples(), total=atomic_test_length):\n",
    "    if (not isinstance(row.head, str)) or (not isinstance(row.tail, str)):\n",
    "        continue\n",
    "    \n",
    "    col1 = nlp(row.head)\n",
    "    col2 = nlp(row.tail)\n",
    "\n",
    "    tmp1 = set([token.lemma_ for token in col1 if token.pos_ == 'VERB'])\n",
    "    tmp2 = set([token.lemma_ for token in col2 if token.pos_ == 'VERB'])\n",
    "\n",
    "    atomic_test.at[row.Index, 'verbs_head'] = tmp1\n",
    "    atomic_test.at[row.Index, 'verbs_tail'] = tmp2"
   ]
  },
  {
   "cell_type": "markdown",
   "metadata": {},
   "source": [
    "### 3.3.2 Find ATOMIC Data which including PIQA-Verb"
   ]
  },
  {
   "cell_type": "code",
   "execution_count": 27,
   "metadata": {},
   "outputs": [
    {
     "name": "stderr",
     "output_type": "stream",
     "text": [
      "100%|██████████| 1076880/1076880 [00:04<00:00, 243739.69it/s]\n"
     ]
    },
    {
     "data": {
      "text/html": [
       "<div>\n",
       "<style scoped>\n",
       "    .dataframe tbody tr th:only-of-type {\n",
       "        vertical-align: middle;\n",
       "    }\n",
       "\n",
       "    .dataframe tbody tr th {\n",
       "        vertical-align: top;\n",
       "    }\n",
       "\n",
       "    .dataframe thead th {\n",
       "        text-align: right;\n",
       "    }\n",
       "</style>\n",
       "<table border=\"1\" class=\"dataframe\">\n",
       "  <thead>\n",
       "    <tr style=\"text-align: right;\">\n",
       "      <th></th>\n",
       "      <th>head</th>\n",
       "      <th>relation</th>\n",
       "      <th>tail</th>\n",
       "      <th>verbs_head</th>\n",
       "      <th>verbs_tail</th>\n",
       "      <th>match</th>\n",
       "    </tr>\n",
       "  </thead>\n",
       "  <tbody>\n",
       "    <tr>\n",
       "      <th>0</th>\n",
       "      <td>PersonX abandons ___ altogether</td>\n",
       "      <td>oEffect</td>\n",
       "      <td>none</td>\n",
       "      <td>{abandon}</td>\n",
       "      <td>{}</td>\n",
       "      <td>True</td>\n",
       "    </tr>\n",
       "    <tr>\n",
       "      <th>1</th>\n",
       "      <td>PersonX abandons ___ altogether</td>\n",
       "      <td>oEffect</td>\n",
       "      <td>none</td>\n",
       "      <td>{abandon}</td>\n",
       "      <td>{}</td>\n",
       "      <td>True</td>\n",
       "    </tr>\n",
       "    <tr>\n",
       "      <th>2</th>\n",
       "      <td>PersonX abandons ___ altogether</td>\n",
       "      <td>oReact</td>\n",
       "      <td>dejected</td>\n",
       "      <td>{abandon}</td>\n",
       "      <td>{deject}</td>\n",
       "      <td>True</td>\n",
       "    </tr>\n",
       "    <tr>\n",
       "      <th>3</th>\n",
       "      <td>PersonX abandons ___ altogether</td>\n",
       "      <td>oWant</td>\n",
       "      <td>none</td>\n",
       "      <td>{abandon}</td>\n",
       "      <td>{}</td>\n",
       "      <td>True</td>\n",
       "    </tr>\n",
       "    <tr>\n",
       "      <th>4</th>\n",
       "      <td>PersonX abandons ___ altogether</td>\n",
       "      <td>oWant</td>\n",
       "      <td>none</td>\n",
       "      <td>{abandon}</td>\n",
       "      <td>{}</td>\n",
       "      <td>True</td>\n",
       "    </tr>\n",
       "  </tbody>\n",
       "</table>\n",
       "</div>"
      ],
      "text/plain": [
       "                              head relation      tail verbs_head verbs_tail  \\\n",
       "0  PersonX abandons ___ altogether  oEffect      none  {abandon}         {}   \n",
       "1  PersonX abandons ___ altogether  oEffect      none  {abandon}         {}   \n",
       "2  PersonX abandons ___ altogether   oReact  dejected  {abandon}   {deject}   \n",
       "3  PersonX abandons ___ altogether    oWant      none  {abandon}         {}   \n",
       "4  PersonX abandons ___ altogether    oWant      none  {abandon}         {}   \n",
       "\n",
       "  match  \n",
       "0  True  \n",
       "1  True  \n",
       "2  True  \n",
       "3  True  \n",
       "4  True  "
      ]
     },
     "metadata": {},
     "output_type": "display_data"
    },
    {
     "name": "stdout",
     "output_type": "stream",
     "text": [
      "1005246\n",
      "71489\n"
     ]
    }
   ],
   "source": [
    "atomic_train['match'] = None\n",
    "for row in tqdm(atomic_train.itertuples(), total=atomic_train_length):\n",
    "    if (not isinstance(row.verbs_head, set)) or (not isinstance(row.verbs_tail, set)) or (not isinstance(piqa_verbs, set)):\n",
    "        continue\n",
    "\n",
    "    if (row.verbs_head & piqa_verbs) or (row.verbs_tail & piqa_verbs):\n",
    "        atomic_train.at[row.Index, 'match'] = True\n",
    "    \n",
    "    else:\n",
    "        atomic_train.at[row.Index, 'match'] = False\n",
    "        \n",
    "display(atomic_train[atomic_train['match'] == True].head())\n",
    "print(len(atomic_train[atomic_train['match'] == True]))\n",
    "print(len(atomic_train[atomic_train['match'] == False]))"
   ]
  },
  {
   "cell_type": "code",
   "execution_count": 28,
   "metadata": {},
   "outputs": [
    {
     "name": "stderr",
     "output_type": "stream",
     "text": [
      "100%|██████████| 102024/102024 [00:00<00:00, 245810.77it/s]\n"
     ]
    },
    {
     "data": {
      "text/html": [
       "<div>\n",
       "<style scoped>\n",
       "    .dataframe tbody tr th:only-of-type {\n",
       "        vertical-align: middle;\n",
       "    }\n",
       "\n",
       "    .dataframe tbody tr th {\n",
       "        vertical-align: top;\n",
       "    }\n",
       "\n",
       "    .dataframe thead th {\n",
       "        text-align: right;\n",
       "    }\n",
       "</style>\n",
       "<table border=\"1\" class=\"dataframe\">\n",
       "  <thead>\n",
       "    <tr style=\"text-align: right;\">\n",
       "      <th></th>\n",
       "      <th>head</th>\n",
       "      <th>relation</th>\n",
       "      <th>tail</th>\n",
       "      <th>verbs_head</th>\n",
       "      <th>verbs_tail</th>\n",
       "      <th>match</th>\n",
       "    </tr>\n",
       "  </thead>\n",
       "  <tbody>\n",
       "    <tr>\n",
       "      <th>0</th>\n",
       "      <td>PersonX 'd better go</td>\n",
       "      <td>oEffect</td>\n",
       "      <td>none</td>\n",
       "      <td>{go}</td>\n",
       "      <td>{}</td>\n",
       "      <td>True</td>\n",
       "    </tr>\n",
       "    <tr>\n",
       "      <th>1</th>\n",
       "      <td>PersonX 'd better go</td>\n",
       "      <td>oEffect</td>\n",
       "      <td>none</td>\n",
       "      <td>{go}</td>\n",
       "      <td>{}</td>\n",
       "      <td>True</td>\n",
       "    </tr>\n",
       "    <tr>\n",
       "      <th>2</th>\n",
       "      <td>PersonX 'd better go</td>\n",
       "      <td>oReact</td>\n",
       "      <td>none</td>\n",
       "      <td>{go}</td>\n",
       "      <td>{}</td>\n",
       "      <td>True</td>\n",
       "    </tr>\n",
       "    <tr>\n",
       "      <th>3</th>\n",
       "      <td>PersonX 'd better go</td>\n",
       "      <td>oReact</td>\n",
       "      <td>none</td>\n",
       "      <td>{go}</td>\n",
       "      <td>{}</td>\n",
       "      <td>True</td>\n",
       "    </tr>\n",
       "    <tr>\n",
       "      <th>4</th>\n",
       "      <td>PersonX 'd better go</td>\n",
       "      <td>oWant</td>\n",
       "      <td>none</td>\n",
       "      <td>{go}</td>\n",
       "      <td>{}</td>\n",
       "      <td>True</td>\n",
       "    </tr>\n",
       "  </tbody>\n",
       "</table>\n",
       "</div>"
      ],
      "text/plain": [
       "                   head relation  tail verbs_head verbs_tail match\n",
       "0  PersonX 'd better go  oEffect  none       {go}         {}  True\n",
       "1  PersonX 'd better go  oEffect  none       {go}         {}  True\n",
       "2  PersonX 'd better go   oReact  none       {go}         {}  True\n",
       "3  PersonX 'd better go   oReact  none       {go}         {}  True\n",
       "4  PersonX 'd better go    oWant  none       {go}         {}  True"
      ]
     },
     "metadata": {},
     "output_type": "display_data"
    },
    {
     "name": "stdout",
     "output_type": "stream",
     "text": [
      "98328\n",
      "3677\n"
     ]
    }
   ],
   "source": [
    "atomic_dev['match'] = None\n",
    "for row in tqdm(atomic_dev.itertuples(), total=atomic_dev_length):\n",
    "    if (not isinstance(row.verbs_head, set)) or (not isinstance(row.verbs_tail, set)) or (not isinstance(piqa_verbs, set)):\n",
    "        continue\n",
    "    \n",
    "    if (row.verbs_head & piqa_verbs) or (row.verbs_tail & piqa_verbs):\n",
    "        atomic_dev.at[row.Index, 'match'] = True\n",
    "    \n",
    "    else:\n",
    "        atomic_dev.at[row.Index, 'match'] = False\n",
    "\n",
    "display(atomic_dev[atomic_dev['match'] == True].head())\n",
    "print(len(atomic_dev[atomic_dev['match'] == True]))\n",
    "print(len(atomic_dev[atomic_dev['match'] == False]))"
   ]
  },
  {
   "cell_type": "code",
   "execution_count": 29,
   "metadata": {},
   "outputs": [
    {
     "name": "stderr",
     "output_type": "stream",
     "text": [
      "100%|██████████| 152209/152209 [00:00<00:00, 239936.87it/s]\n"
     ]
    },
    {
     "data": {
      "text/html": [
       "<div>\n",
       "<style scoped>\n",
       "    .dataframe tbody tr th:only-of-type {\n",
       "        vertical-align: middle;\n",
       "    }\n",
       "\n",
       "    .dataframe tbody tr th {\n",
       "        vertical-align: top;\n",
       "    }\n",
       "\n",
       "    .dataframe thead th {\n",
       "        text-align: right;\n",
       "    }\n",
       "</style>\n",
       "<table border=\"1\" class=\"dataframe\">\n",
       "  <thead>\n",
       "    <tr style=\"text-align: right;\">\n",
       "      <th></th>\n",
       "      <th>head</th>\n",
       "      <th>relation</th>\n",
       "      <th>tail</th>\n",
       "      <th>verbs_head</th>\n",
       "      <th>verbs_tail</th>\n",
       "      <th>match</th>\n",
       "    </tr>\n",
       "  </thead>\n",
       "  <tbody>\n",
       "    <tr>\n",
       "      <th>0</th>\n",
       "      <td>PersonX abuses PersonX's power</td>\n",
       "      <td>oEffect</td>\n",
       "      <td>are told what to do</td>\n",
       "      <td>{abuse}</td>\n",
       "      <td>{tell, do}</td>\n",
       "      <td>True</td>\n",
       "    </tr>\n",
       "    <tr>\n",
       "      <th>1</th>\n",
       "      <td>PersonX abuses PersonX's power</td>\n",
       "      <td>oEffect</td>\n",
       "      <td>given unfair consequences or punishment</td>\n",
       "      <td>{abuse}</td>\n",
       "      <td>{give}</td>\n",
       "      <td>True</td>\n",
       "    </tr>\n",
       "    <tr>\n",
       "      <th>2</th>\n",
       "      <td>PersonX abuses PersonX's power</td>\n",
       "      <td>oEffect</td>\n",
       "      <td>reach out for help</td>\n",
       "      <td>{abuse}</td>\n",
       "      <td>{reach}</td>\n",
       "      <td>True</td>\n",
       "    </tr>\n",
       "    <tr>\n",
       "      <th>3</th>\n",
       "      <td>PersonX abuses PersonX's power</td>\n",
       "      <td>oEffect</td>\n",
       "      <td>none</td>\n",
       "      <td>{abuse}</td>\n",
       "      <td>{}</td>\n",
       "      <td>True</td>\n",
       "    </tr>\n",
       "    <tr>\n",
       "      <th>4</th>\n",
       "      <td>PersonX abuses PersonX's power</td>\n",
       "      <td>oReact</td>\n",
       "      <td>humiliated</td>\n",
       "      <td>{abuse}</td>\n",
       "      <td>{humiliate}</td>\n",
       "      <td>True</td>\n",
       "    </tr>\n",
       "  </tbody>\n",
       "</table>\n",
       "</div>"
      ],
      "text/plain": [
       "                             head relation  \\\n",
       "0  PersonX abuses PersonX's power  oEffect   \n",
       "1  PersonX abuses PersonX's power  oEffect   \n",
       "2  PersonX abuses PersonX's power  oEffect   \n",
       "3  PersonX abuses PersonX's power  oEffect   \n",
       "4  PersonX abuses PersonX's power   oReact   \n",
       "\n",
       "                                      tail verbs_head   verbs_tail match  \n",
       "0                      are told what to do    {abuse}   {tell, do}  True  \n",
       "1  given unfair consequences or punishment    {abuse}       {give}  True  \n",
       "2                       reach out for help    {abuse}      {reach}  True  \n",
       "3                                     none    {abuse}           {}  True  \n",
       "4                               humiliated    {abuse}  {humiliate}  True  "
      ]
     },
     "metadata": {},
     "output_type": "display_data"
    },
    {
     "name": "stdout",
     "output_type": "stream",
     "text": [
      "142916\n",
      "9276\n"
     ]
    }
   ],
   "source": [
    "atomic_test['match'] = None\n",
    "for row in tqdm(atomic_test.itertuples(), total=atomic_test_length):\n",
    "    if (not isinstance(row.verbs_head, set)) or (not isinstance(row.verbs_tail, set)) or (not isinstance(piqa_verbs, set)):\n",
    "        continue\n",
    "    \n",
    "    if (row.verbs_head & piqa_verbs) or (row.verbs_tail & piqa_verbs):\n",
    "        atomic_test.at[row.Index, 'match'] = True\n",
    "    \n",
    "    else:\n",
    "        atomic_test.at[row.Index, 'match'] = False\n",
    "\n",
    "display(atomic_test[atomic_test['match'] == True].head())\n",
    "print(len(atomic_test[atomic_test['match'] == True]))\n",
    "print(len(atomic_test[atomic_test['match'] == False]))"
   ]
  },
  {
   "cell_type": "markdown",
   "metadata": {},
   "source": [
    "### 3.3.3 Save ATOMIC-Extract"
   ]
  },
  {
   "cell_type": "code",
   "execution_count": 30,
   "metadata": {},
   "outputs": [],
   "source": [
    "atomic_train[atomic_train['match'] == True][['head', 'relation', 'tail']].to_csv(\n",
    "    \"./outputs/ATOMIC-Extract/train.tsv\", sep='\\t', index=False, header=False)"
   ]
  },
  {
   "cell_type": "code",
   "execution_count": 31,
   "metadata": {},
   "outputs": [],
   "source": [
    "atomic_dev[atomic_dev['match'] == True][['head', 'relation', 'tail']].to_csv(\n",
    "    \"./outputs/ATOMIC-Extract/dev.tsv\", sep='\\t', index=False, header=False)"
   ]
  },
  {
   "cell_type": "code",
   "execution_count": 32,
   "metadata": {},
   "outputs": [],
   "source": [
    "atomic_test[atomic_test['match'] == True][['head', 'relation', 'tail']].to_csv(\n",
    "    \"./outputs/ATOMIC-Extract/test.tsv\", sep='\\t', index=False, header=False)"
   ]
  },
  {
   "cell_type": "markdown",
   "metadata": {},
   "source": [
    "### 3.3.4 Save ATOMIC-Extract-Full"
   ]
  },
  {
   "cell_type": "code",
   "execution_count": 33,
   "metadata": {},
   "outputs": [],
   "source": [
    "atomic_train[atomic_train['match'] == True]['head', 'relation', 'tail', 'verbs_head', 'verbs_tail'].to_csv(\n",
    "    \"./outputs/ATOMIC-Extract/train_full.tsv\", sep='\\t', index=False, header=False)"
   ]
  },
  {
   "cell_type": "code",
   "execution_count": 34,
   "metadata": {},
   "outputs": [],
   "source": [
    "atomic_dev[atomic_dev['match'] == True]['head', 'relation', 'tail', 'verbs_head', 'verbs_tail'].to_csv(\n",
    "    \"./outputs/ATOMIC-Extract/dev_full.tsv\", sep='\\t', index=False, header=False)"
   ]
  },
  {
   "cell_type": "code",
   "execution_count": 35,
   "metadata": {},
   "outputs": [],
   "source": [
    "atomic_test[atomic_test['match'] == True].to_csv(\n",
    "    \"./outputs/ATOMIC-Extract/test_full.tsv\", sep='\\t', index=False, header=False)"
   ]
  }
 ],
 "metadata": {
  "kernelspec": {
   "display_name": "Python 3.8.13 64-bit ('commonsense-env')",
   "language": "python",
   "name": "python3"
  },
  "language_info": {
   "codemirror_mode": {
    "name": "ipython",
    "version": 3
   },
   "file_extension": ".py",
   "mimetype": "text/x-python",
   "name": "python",
   "nbconvert_exporter": "python",
   "pygments_lexer": "ipython3",
   "version": "3.8.13"
  },
  "orig_nbformat": 4,
  "vscode": {
   "interpreter": {
    "hash": "6f4007100c6443a8e727b9f63f13e080e1241b0bd453ef16fb4b6d271ac8f8bd"
   }
  }
 },
 "nbformat": 4,
 "nbformat_minor": 2
}
