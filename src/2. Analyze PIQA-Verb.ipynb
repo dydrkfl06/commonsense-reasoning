{
 "cells": [
  {
   "cell_type": "markdown",
   "metadata": {},
   "source": [
    "# 2. Verify & Analyze PIQA-Verb"
   ]
  },
  {
   "cell_type": "code",
   "execution_count": 36,
   "metadata": {},
   "outputs": [],
   "source": [
    "import pandas as pd\n",
    "from tqdm import tqdm"
   ]
  },
  {
   "cell_type": "markdown",
   "metadata": {},
   "source": [
    "## 2.1. Load PIQA-Verb"
   ]
  },
  {
   "cell_type": "code",
   "execution_count": 37,
   "metadata": {},
   "outputs": [],
   "source": [
    "piqa_verb_train = set(line.strip() for line in open('./outputs/PIQA-Verb/train.txt'))\n",
    "piqa_verb_valid = set(line.strip() for line in open('./outputs/PIQA-Verb/valid.txt'))\n",
    "piqa_verb_tests = set(line.strip() for line in open('./outputs/PIQA-Verb/tests.txt'))"
   ]
  },
  {
   "cell_type": "markdown",
   "metadata": {},
   "source": [
    "## 2.2 Verify PIQA-Verb"
   ]
  },
  {
   "cell_type": "code",
   "execution_count": 29,
   "metadata": {},
   "outputs": [],
   "source": [
    "import requests\n",
    "import json"
   ]
  },
  {
   "cell_type": "code",
   "execution_count": 32,
   "metadata": {},
   "outputs": [],
   "source": [
    "def checkVerb(word):\n",
    "    url = \"https://api.dictionaryapi.dev/api/v2/entries/en/\" + word\n",
    "\n",
    "    response = requests.get(url)\n",
    "\n",
    "    if response.status_code == 404:\n",
    "        return False\n",
    "\n",
    "    data = json.loads(response.text)\n",
    "\n",
    "    for i in data[0]['meanings']:\n",
    "        if i['partOfSpeech'] == 'verb':\n",
    "            return True\n",
    "    \n",
    "    return False\n"
   ]
  },
  {
   "cell_type": "code",
   "execution_count": null,
   "metadata": {},
   "outputs": [],
   "source": [
    "notVerb_train = set()\n",
    "verb_train = set()\n",
    "\n",
    "for word in tqdm(piqa_verb_train):\n",
    "    if not checkVerb(word):\n",
    "        notVerb_train.add(word)\n",
    "\n",
    "    if checkVerb(word):\n",
    "        verb_train.add(word)\n",
    "\n",
    "print(len(notVerb_train))\n",
    "print(len(verb_train))"
   ]
  },
  {
   "cell_type": "code",
   "execution_count": null,
   "metadata": {},
   "outputs": [],
   "source": [
    "notVerb_valid = set()\n",
    "verb_valid = set()\n",
    "\n",
    "for word in tqdm(piqa_verb_valid):\n",
    "    if not checkVerb(word):\n",
    "        notVerb_valid.add(word)\n",
    "\n",
    "    if checkVerb(word):\n",
    "        verb_valid.add(word)\n",
    "\n",
    "print(len(notVerb_valid))\n",
    "print(len(verb_valid))"
   ]
  },
  {
   "cell_type": "code",
   "execution_count": null,
   "metadata": {},
   "outputs": [],
   "source": [
    "notVerb_tests = set()\n",
    "verb_tests = set()\n",
    "\n",
    "for word in tqdm(piqa_verb_tests):\n",
    "    if not checkVerb(word):\n",
    "        notVerb_tests.add(word)\n",
    "\n",
    "    if checkVerb(word):\n",
    "        verb_tests.add(word)\n",
    "\n",
    "print(len(notVerb_tests))\n",
    "print(len(verb_tests))"
   ]
  },
  {
   "cell_type": "markdown",
   "metadata": {},
   "source": [
    "## 2.3 Save PIQA-Verb"
   ]
  },
  {
   "cell_type": "code",
   "execution_count": null,
   "metadata": {},
   "outputs": [],
   "source": [
    "verb_train_df = pd.DataFrame(verb_train)\n",
    "verb_train_df.to_csv(\"./outputs/PIQA-Verb-Analyzed/train.txt\", index=False, header=False)"
   ]
  },
  {
   "cell_type": "code",
   "execution_count": null,
   "metadata": {},
   "outputs": [],
   "source": [
    "verb_valid_df = pd.DataFrame(verb_valid)\n",
    "verb_valid_df.to_csv(\"./outputs/PIQA-Verb-Analyzed/valid.txt\", index=False, header=False)"
   ]
  },
  {
   "cell_type": "code",
   "execution_count": null,
   "metadata": {},
   "outputs": [],
   "source": [
    "verb_tests_df = pd.DataFrame(verb_tests)\n",
    "verb_tests_df.to_csv(\"./outputs/PIQA-Verb-Analyzed/tests.txt\", index=False, header=False)"
   ]
  },
  {
   "cell_type": "code",
   "execution_count": null,
   "metadata": {},
   "outputs": [],
   "source": [
    "verb_all = set()\n",
    "verb_all.update(verb_train)\n",
    "verb_all.update(verb_valid)\n",
    "verb_all.update(verb_tests)\n",
    "\n",
    "print(len(verb_all))"
   ]
  },
  {
   "cell_type": "code",
   "execution_count": null,
   "metadata": {},
   "outputs": [],
   "source": [
    "verb_all_df = pd.DataFrame(verb_all)\n",
    "verb_all_df.to_csv(\"./outputs/PIQA-Verb-Analyzed/all.txt\", index=False, header=False)"
   ]
  },
  {
   "cell_type": "code",
   "execution_count": null,
   "metadata": {},
   "outputs": [],
   "source": [
    "notVerb_all = set()\n",
    "notVerb_all.update(notVerb_train)\n",
    "notVerb_all.update(notVerb_valid)\n",
    "notVerb_all.update(notVerb_tests)\n",
    "\n",
    "print(len(notVerb_all))"
   ]
  },
  {
   "cell_type": "code",
   "execution_count": null,
   "metadata": {},
   "outputs": [],
   "source": [
    "notVerb_all_df = pd.DataFrame(notVerb_all)\n",
    "notVerb_all_df.to_csv(\"./outputs/PIQA-Verb-Analyzed/notVerb.txt\", index=False, header=False)"
   ]
  }
 ],
 "metadata": {
  "kernelspec": {
   "display_name": "Python 3.8.13 64-bit ('commonsense-env')",
   "language": "python",
   "name": "python3"
  },
  "language_info": {
   "codemirror_mode": {
    "name": "ipython",
    "version": 3
   },
   "file_extension": ".py",
   "mimetype": "text/x-python",
   "name": "python",
   "nbconvert_exporter": "python",
   "pygments_lexer": "ipython3",
   "version": "3.8.13"
  },
  "orig_nbformat": 4,
  "vscode": {
   "interpreter": {
    "hash": "6f4007100c6443a8e727b9f63f13e080e1241b0bd453ef16fb4b6d271ac8f8bd"
   }
  }
 },
 "nbformat": 4,
 "nbformat_minor": 2
}
